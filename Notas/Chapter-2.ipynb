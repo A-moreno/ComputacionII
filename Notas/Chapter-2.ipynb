{
 "cells": [
  {
   "cell_type": "code",
   "execution_count": 1,
   "metadata": {
    "collapsed": true
   },
   "outputs": [],
   "source": [
    "%load_ext rpy2.ipython"
   ]
  },
  {
   "cell_type": "markdown",
   "metadata": {},
   "source": [
    "---\n",
    "output:\n",
    "  html_document: default\n",
    "  \n",
    "---\n",
    "# Estructuras de Datos en Python\n",
    "\n",
    "- La lista nos permite combinar un grupo de elementos de diferente tipo.\n",
    "![Lista](https://drive.google.com/uc?export=download&id=0B-gMwJckE-EpOExzYmhjTFdaUVk)\n",
    "\n",
    "- Se tienen dos tipos básicos de lista, en función de como se llenan. \n",
    "- Al llenar por el inicio se conoce como *pila*.\n",
    "- Al llenar por el final se conoce como *Queue*\n",
    "\n",
    "# Listas\n",
    "\n",
    "\n",
    "Las listas son el tipo de dato básido de python realizaremos algunas pruebas con ellas."
   ]
  },
  {
   "cell_type": "code",
   "execution_count": 2,
   "metadata": {
    "collapsed": false
   },
   "outputs": [
    {
     "name": "stdout",
     "output_type": "stream",
     "text": [
      "[23, 34, 566, 123, 64, 56, 32, 656, 33, 23]\n"
     ]
    }
   ],
   "source": [
    "Lista1 = [23,34,566,123,64]\n",
    "Lista2 = [56,32,656,33,23]\n",
    "\n",
    "# Al sumar dos listas, se concatenan\n",
    "print(Lista1 + Lista2)\n"
   ]
  },
  {
   "cell_type": "markdown",
   "metadata": {},
   "source": [
    "## Listas de comprensión\n",
    "\n",
    "Si queremos generar una lista de números, podemos  utilizar la función *range*, la cual genera una lista de enteros consecutivos."
   ]
  },
  {
   "cell_type": "code",
   "execution_count": 3,
   "metadata": {
    "collapsed": false
   },
   "outputs": [
    {
     "name": "stdout",
     "output_type": "stream",
     "text": [
      "[0, 1, 2, 3, 4, 5, 6, 7, 8, 9]\n",
      "[1, 2, 3, 4, 5, 6, 7, 8, 9]\n",
      "[1, 4, 7, 10, 13, 16, 19]\n"
     ]
    }
   ],
   "source": [
    "print range(10)\n",
    "\n",
    "## Podemos indicar el rango de inicio y final\n",
    "\n",
    "print range(1,10)\n",
    "\n",
    "# Podemos indicar los incrementos\n",
    "print range(1,20,3)\n"
   ]
  },
  {
   "cell_type": "markdown",
   "metadata": {},
   "source": [
    "La manera más facil de generar una lista es utilizar una *lista de comprensión*"
   ]
  },
  {
   "cell_type": "code",
   "execution_count": 4,
   "metadata": {
    "collapsed": false
   },
   "outputs": [
    {
     "name": "stdout",
     "output_type": "stream",
     "text": [
      "[10, 16, 17, 16, 19, 14, 15, 17, 10, 13, 10, 12, 15, 14, 12]\n"
     ]
    }
   ],
   "source": [
    "import random\n",
    "A = [random.randint(10,20) for i in range(15)]\n",
    "print A"
   ]
  },
  {
   "cell_type": "markdown",
   "metadata": {},
   "source": [
    "### Listas de comprensión y Cadenas(Strings)\n",
    "- Te recomiendo ejecutar la siguiente función en la terminal de ipython."
   ]
  },
  {
   "cell_type": "code",
   "execution_count": 5,
   "metadata": {
    "collapsed": false
   },
   "outputs": [
    {
     "name": "stdout",
     "output_type": "stream",
     "text": [
      "['U', 'n', 'a', ' ', 'p', 'a', 'l', 'a', 'b', 'r', 'a', ' ', 'm', 'u', 'y', ' ', 'g', 'r', 'a', 'n', 'd', 'e', ' ', 'p', 'o', 'r', ' ', 'i', 'm', 'p', 'r', 'i', 'm', 'i', 'r']\n"
     ]
    }
   ],
   "source": [
    "# Tenemos la cadena\n",
    "\n",
    "granLista = list(\"Una palabra muy grande por imprimir\")\n",
    "\n",
    "# Si deseamos usar caracter por caracter tenemos\n",
    "\n",
    "print [caracter for caracter in granLista]\n"
   ]
  },
  {
   "cell_type": "markdown",
   "metadata": {},
   "source": [
    "*Ejemplo 2*. Convertir los caracteres de una cadena a enteros.  \n",
    "\n",
    "Las funciones integradas en python *char(r), str(n),ord('c')*"
   ]
  },
  {
   "cell_type": "code",
   "execution_count": 6,
   "metadata": {
    "collapsed": false
   },
   "outputs": [
    {
     "name": "stdout",
     "output_type": "stream",
     "text": [
      "[85, 110, 97, 32, 112, 97, 108, 97, 98, 114, 97, 32, 109, 117, 121, 32, 103, 114, 97, 110, 100, 101, 32, 112, 111, 114, 32, 105, 109, 112, 114, 105, 109, 105, 114]\n"
     ]
    }
   ],
   "source": [
    "granLista = list(\"Una palabra muy grande por imprimir\")\n",
    "result = [ord(caracter) for caracter in granLista]\n",
    "\n",
    "print result\n"
   ]
  },
  {
   "cell_type": "markdown",
   "metadata": {},
   "source": [
    "Python también cuenta con la función *map*"
   ]
  },
  {
   "cell_type": "code",
   "execution_count": 5,
   "metadata": {
    "collapsed": true
   },
   "outputs": [],
   "source": [
    "numeros = [1,2,3,4,5]\n",
    "\n",
    "doubles = []\n",
    "for n in numeros:\n",
    "  if n%2 == 0:\n",
    "    doubles.append(n)\n",
    "\n"
   ]
  },
  {
   "cell_type": "markdown",
   "metadata": {},
   "source": [
    "El mismo código se puede representar en una lista de comprensión de la siguiente manera"
   ]
  },
  {
   "cell_type": "code",
   "execution_count": 7,
   "metadata": {
    "collapsed": true
   },
   "outputs": [],
   "source": [
    "doubles = [n*2 for n in numeros if n%2 == 1]"
   ]
  },
  {
   "cell_type": "markdown",
   "metadata": {},
   "source": [
    "## Ejercicios.\n",
    "\n",
    "Si deseas convertir una lista de numeros en arreglo de enteros puedes usar el siguiente código.\n",
    "\n",
    "1 2 3 4   \n",
    "3 4 6 7   \n",
    "8 9 6 4   "
   ]
  },
  {
   "cell_type": "code",
   "execution_count": 4,
   "metadata": {
    "collapsed": false,
    "scrolled": true
   },
   "outputs": [
    {
     "name": "stdout",
     "output_type": "stream",
     "text": [
      "1 2 3 4\n",
      "4 3 5 6\n",
      "2 3 5 3\n",
      "[[1, 2, 3, 4], [4, 3, 5, 6], [2, 3, 5, 3]]\n"
     ]
    }
   ],
   "source": [
    "#!/bin/python\n",
    "\n",
    "# copia y pega en ipython\n",
    "\n",
    "import sys\n",
    "\n",
    "\n",
    "arr = []\n",
    "for arr_i in xrange(3):\n",
    "    arr_temp = map(int,raw_input().strip().split(' '))\n",
    "    arr.append(arr_temp)\n",
    "print arr"
   ]
  },
  {
   "cell_type": "code",
   "execution_count": null,
   "metadata": {
    "collapsed": true
   },
   "outputs": [],
   "source": []
  }
 ],
 "metadata": {
  "kernelspec": {
   "display_name": "Python 2",
   "language": "python",
   "name": "python2"
  },
  "language_info": {
   "codemirror_mode": {
    "name": "ipython",
    "version": 2
   },
   "file_extension": ".py",
   "mimetype": "text/x-python",
   "name": "python",
   "nbconvert_exporter": "python",
   "pygments_lexer": "ipython2",
   "version": "2.7.13"
  }
 },
 "nbformat": 4,
 "nbformat_minor": 2
}
