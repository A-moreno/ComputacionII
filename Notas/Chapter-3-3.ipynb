{
 "cells": [
  {
   "cell_type": "markdown",
   "metadata": {
    "_cell_guid": "116ad8e0-708d-5ba6-d9e8-d00abd700dbf",
    "collapsed": false
   },
   "source": [
    "Vamos a crear una aplicación en la terminal que coincide con la imagen a continuación:\n",
    "\n",
    "![](img/notebook.png)\n",
    "\n",
    "Diseñamos una aplicación Notebook(libreta), recordemos que las notas(notes) son pequeños memos almacenados en una libreta, cada note deberá indicar el día que fué escrita y puede tener etiquedas(tags) para que puedan ser localizadas facilmente, todas la aplicación se utiliza desde la linea de comandos.\n",
    "\n",
    "De entrada el objeto base sera ```Note``` y menos obvio el contenedor ```Notebook```, los ```tags``` y fechas parecen ser objetos pero podemos usar de la libreria de python ```date```.\n",
    "\n",
    "\n",
    "```Note``` tiene atributos para ```memo```, ```tags```  y  ```dia_creacion```. Cada nota tiene asignado un entero unico ```id``` que los usuarios pueden seleccionar en una interfase de usuario. Las Notas pueden tener un método que puede modificar el contenido y otros tags.\n",
    "\n",
    "El objeto ```Notebook``` tiene una lista de notas como un atributo, y un método ```search``` que regresa una lista de las notas filtradas.\n",
    "\n",
    "Como primer parte debemos decidir como estructurar el proyecto para ello vamos a usar el siguiente prototipo:\n",
    "```\n",
    "Raiz/\n",
    "  notebook.py\n",
    "  menu.py\n",
    "  comands_option.py\n",
    "```\n",
    "\n",
    "Comenzaremos por las notas la clase ```Note```deberá definirse dentro del archivo ```Notebook.py```"
   ]
  },
  {
   "cell_type": "code",
   "execution_count": 13,
   "metadata": {
    "collapsed": false
   },
   "outputs": [],
   "source": [
    "import datetime\n",
    "\n",
    "#Almacena el siguiente id disponibles para las notas\n",
    "\n",
    "last_id = 0\n",
    "\n",
    "class Note:\n",
    "    '''Representa una Nota en la Notebook, si pasas una cadena se filtra la entrada'''\n",
    "    def __init__(self,memo,tags=''):\n",
    "        '''inicializa una nota con un memo, y una tag opcional'''\n",
    "        self.memo = memo\n",
    "        self.tags = tags\n",
    "        self.creation_date=datetime.date.today()\n",
    "        \n",
    "        global last_id\n",
    "        last_id += 1\n",
    "        self.id = last_id\n",
    "        \n",
    "    def match(self,filter):\n",
    "        '''Determina si una nota coincide con el texto filtro, Regresa True\n",
    "        si coincide o False en caso contrario'''\n",
    "        return filter in self.memo or filter in self.tags"
   ]
  },
  {
   "cell_type": "markdown",
   "metadata": {},
   "source": [
    "A continuación vamos a definir la clase Notebook"
   ]
  },
  {
   "cell_type": "code",
   "execution_count": 26,
   "metadata": {
    "collapsed": true
   },
   "outputs": [],
   "source": [
    "class Notebook:\n",
    "    '''Representa una coleccion de notas que pueden ser etiquetadas, modificadas e indexadas'''\n",
    "    def __init__(self):\n",
    "        '''Inicializamos la libreta \n",
    "        con una lista vacia'''\n",
    "        self.notes = []\n",
    "    \n",
    "    def new_note(self,memo,tags=''):\n",
    "        self.notes.append(Note(memo,tags))\n",
    "    \n",
    "    def modify_memo(self,note_id,memo):\n",
    "        '''Localiza la nota con el id y cambia su texto'''\n",
    "        for note in self.notes:\n",
    "            if note.id == note_id:\n",
    "                note.memo = memo\n",
    "                break\n",
    "    def modify_tags(self,note_id,tags):\n",
    "        '''Localiza la nota y cambia el tag'''\n",
    "        for note in self.notes:\n",
    "            if note.id == note.id:\n",
    "                note.tags = tags\n",
    "                break\n",
    "    def search(self, filter):\n",
    "        '''Encuentra las notas con el tag proporcionado'''\n",
    "        return [note for note in self.notes if note.match(filter)]\n"
   ]
  },
  {
   "cell_type": "code",
   "execution_count": 4,
   "metadata": {
    "collapsed": false
   },
   "outputs": [
    {
     "ename": "ImportError",
     "evalue": "cannot import name Note",
     "output_type": "error",
     "traceback": [
      "\u001b[0;31m---------------------------------------------------------------------------\u001b[0m",
      "\u001b[0;31mImportError\u001b[0m                               Traceback (most recent call last)",
      "\u001b[0;32m<ipython-input-4-68e3745bb8e5>\u001b[0m in \u001b[0;36m<module>\u001b[0;34m()\u001b[0m\n\u001b[0;32m----> 1\u001b[0;31m \u001b[0;32mfrom\u001b[0m \u001b[0mnotebook\u001b[0m \u001b[0;32mimport\u001b[0m \u001b[0mNote\u001b[0m\u001b[0;34m,\u001b[0m \u001b[0mNotebook\u001b[0m\u001b[0;34m\u001b[0m\u001b[0m\n\u001b[0m",
      "\u001b[0;31mImportError\u001b[0m: cannot import name Note"
     ]
    }
   ],
   "source": [
    "from notebook import Note, Notebook"
   ]
  },
  {
   "cell_type": "code",
   "execution_count": 15,
   "metadata": {
    "collapsed": false
   },
   "outputs": [],
   "source": [
    "n1 = Note(\"Hola\")"
   ]
  },
  {
   "cell_type": "code",
   "execution_count": 16,
   "metadata": {
    "collapsed": true
   },
   "outputs": [],
   "source": [
    "n2 = Note(\"Hola de nuevo\")"
   ]
  },
  {
   "cell_type": "code",
   "execution_count": 17,
   "metadata": {
    "collapsed": false
   },
   "outputs": [
    {
     "data": {
      "text/plain": [
       "1"
      ]
     },
     "execution_count": 17,
     "metadata": {},
     "output_type": "execute_result"
    }
   ],
   "source": [
    "n1.id"
   ]
  },
  {
   "cell_type": "code",
   "execution_count": 18,
   "metadata": {
    "collapsed": false
   },
   "outputs": [
    {
     "data": {
      "text/plain": [
       "2"
      ]
     },
     "execution_count": 18,
     "metadata": {},
     "output_type": "execute_result"
    }
   ],
   "source": [
    "n2.id"
   ]
  },
  {
   "cell_type": "code",
   "execution_count": 20,
   "metadata": {
    "collapsed": false
   },
   "outputs": [
    {
     "data": {
      "text/plain": [
       "True"
      ]
     },
     "execution_count": 20,
     "metadata": {},
     "output_type": "execute_result"
    }
   ],
   "source": [
    "n1.match('Hola')"
   ]
  },
  {
   "cell_type": "code",
   "execution_count": 21,
   "metadata": {
    "collapsed": true
   },
   "outputs": [],
   "source": [
    "n = Notebook()"
   ]
  },
  {
   "cell_type": "code",
   "execution_count": 22,
   "metadata": {
    "collapsed": true
   },
   "outputs": [],
   "source": [
    "n.new_note(\"hola Mundo\")"
   ]
  },
  {
   "cell_type": "code",
   "execution_count": 23,
   "metadata": {
    "collapsed": true
   },
   "outputs": [],
   "source": [
    "n.new_note(\"hola Mundo 2\")"
   ]
  },
  {
   "cell_type": "code",
   "execution_count": 28,
   "metadata": {
    "collapsed": false
   },
   "outputs": [
    {
     "data": {
      "text/plain": [
       "2"
      ]
     },
     "execution_count": 28,
     "metadata": {},
     "output_type": "execute_result"
    }
   ],
   "source": [
    "len(n.notes)"
   ]
  },
  {
   "cell_type": "code",
   "execution_count": null,
   "metadata": {
    "collapsed": true
   },
   "outputs": [],
   "source": []
  }
 ],
 "metadata": {
  "_change_revision": 2,
  "_is_fork": false,
  "kernelspec": {
   "display_name": "Python 2",
   "language": "python",
   "name": "python2"
  },
  "language_info": {
   "codemirror_mode": {
    "name": "ipython",
    "version": 2
   },
   "file_extension": ".py",
   "mimetype": "text/x-python",
   "name": "python",
   "nbconvert_exporter": "python",
   "pygments_lexer": "ipython2",
   "version": "2.7.13"
  }
 },
 "nbformat": 4,
 "nbformat_minor": 0
}
