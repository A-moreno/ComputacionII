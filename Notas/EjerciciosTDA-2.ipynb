{
 "cells": [
  {
   "cell_type": "markdown",
   "metadata": {},
   "source": [
    "## 1\n",
    "Dado el TDA LSC (Lista simple) realizar una nueva primitiva **LSC_INVERTIR_LISTA** que recibe como parámetro una lista y le invierte el orden a sus elementos, es decir, el ultimo elemento de la lista pasaría a ser el primero, el anteúltimo el siguiente del que paso a ser primero y el que era primero quedaría como ultimo elemento de la lista. PRE-condición: la lista no esta vacía.  \n",
    "\n",
    "**Aclaración:** Para que la primitiva sea óptima no se pueden utilizar otras primitivas del tipo ni estructuras auxiliares.  \n",
    "\n",
    "\n"
   ]
  },
  {
   "cell_type": "markdown",
   "metadata": {},
   "source": [
    "## 2 \n",
    "Dado un TDA **COLA** desarrollar una nueva primitiva, **Cola_agregar_en_posición_N,** que recibe\n",
    "como parámetros, la cola, un elemento a agregar en la cola y un numero N (es la posición en la\n",
    "cual se quiere agregar el elemento en la cola).  \n",
    "\n",
    "Esta primitiva encola el elemento en la posición N\n",
    "(por ejemplo si N es 3, se encolaría como tercer elemento desde el primero). En caso de que el\n",
    "TDA no tenga N-1 elementos, agregarlo como ultimo (caso común de agregar cola).\n",
    "\n",
    "**PREcondición:** La cola no esta vacía.\n",
    "**Aclaración**: Para que la primitiva sea optima no se pueden utilizar otras primitivas del tipo ni estructuras auxiliares."
   ]
  },
  {
   "cell_type": "markdown",
   "metadata": {},
   "source": [
    "## 3\n",
    "Dado un TDA PILA desarrollar una nueva primitiva, **Pila_Desapilar_elemento_N**, que recibe como\n",
    "parámetros, la pila, un numero N (es la posición del elemento que se quiere desapilar), el elemento\n",
    "a devolver y devuelve una variable de error que indica el resultado de la operación. Esta primitiva\n",
    "desapila el elemento N (por ejemplo si N es 3, es el tercer elemento desde el tope) y lo devuelve\n",
    "en la variable ELEM. \n",
    "\n",
    "La primitiva devuelve error en **TRUE** si no se pudo realizar la operación\n",
    "porque no existía el elemento N, **FALSE** si se realizo exitosamente el cambio. \n",
    "\n",
    "**PRE-condición:** La pila no esta vacía. \n",
    "\n",
    "**Aclaración:** Para que la primitiva sea optima no se pueden utilizar otras\n",
    "primitivas del tipo ni estructuras auxiliares..\n"
   ]
  },
  {
   "cell_type": "code",
   "execution_count": null,
   "metadata": {
    "collapsed": true
   },
   "outputs": [],
   "source": []
  }
 ],
 "metadata": {
  "kernelspec": {
   "display_name": "Python 2",
   "language": "python",
   "name": "python2"
  },
  "language_info": {
   "codemirror_mode": {
    "name": "ipython",
    "version": 2
   },
   "file_extension": ".py",
   "mimetype": "text/x-python",
   "name": "python",
   "nbconvert_exporter": "python",
   "pygments_lexer": "ipython2",
   "version": "2.7.13"
  }
 },
 "nbformat": 4,
 "nbformat_minor": 2
}
