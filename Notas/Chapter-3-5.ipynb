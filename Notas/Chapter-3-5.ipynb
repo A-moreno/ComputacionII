{
 "cells": [
  {
   "cell_type": "markdown",
   "metadata": {},
   "source": [
    "# Ejercicios de pilas y listas\n",
    "\n",
    "## Convertir numeros a notación Binaria\n",
    "\n",
    "\n",
    "De acuerdo con la imagen a continuación podemos convertir cualquier numero a binario si lo dividimos por 2 y el resultado del residuo lo guardamos en una pila, al final solo hay que imprimir el contenido de la pila\n",
    "\n",
    "![fraccion](img/dectobin.png)"
   ]
  },
  {
   "cell_type": "code",
   "execution_count": null,
   "metadata": {
    "collapsed": true
   },
   "outputs": [],
   "source": [
    "def divideBy2(decNumber):\n",
    "    remstack = Stack()\n",
    "\n",
    "    while decNumber > 0:\n",
    "        rem = decNumber % 2\n",
    "        remstack.push(rem)\n",
    "        decNumber = decNumber // 2\n",
    "\n",
    "    binString = \"\"\n",
    "    while not remstack.isEmpty():\n",
    "        binString = binString + str(remstack.pop())\n",
    "\n",
    "    return binString\n",
    "\n",
    "print(divideBy2(42))"
   ]
  },
  {
   "cell_type": "markdown",
   "metadata": {},
   "source": [
    "## Actividad.\n",
    "\n",
    "Escribir un programa que permita convertir un número a cualquier base y responde las siguiente preguntas.\n",
    "\n",
    "1. Cual es el valor de 25 expresado como un numero octal.\n",
    "2. Cual es el valor de 25 expresado como un número hexadecimal.\n",
    "3. Cual es el valor de 26 expresado en base 26"
   ]
  },
  {
   "cell_type": "markdown",
   "metadata": {
    "collapsed": false
   },
   "source": [
    "# Ejercicios usando pilas y listas\n",
    "\n",
    "1. Un banco tiene guardados los registros de los movimientos en una lista. Los movimientos\n",
    "están ordenados primero por fecha y luego por numero de cuenta.\n",
    "\n",
    "El tipo del elemento de la lista es:\n",
    "\n",
    "```\n",
    "TElemLista Fecha  Nro_Cta Monto Tipo (Deposito/Extracción)\n",
    "```\n",
    "\n",
    "Realizar procedimientos para este TDA que:\n",
    "*  Permita Calcular la cantidad de depositos realizados entre el 01/01/2004 y el\n",
    "31/07/2004.\n",
    "*  Permita Calcular el total depositado y extraído en el año 2003.\n",
    "*  Permita Calcular el saldo de la cuenta 8894 del año 2003. \n",
    "\n"
   ]
  },
  {
   "cell_type": "markdown",
   "metadata": {},
   "source": [
    "2. Una empresa de servicios guarda es una pila, las tareas que debe realizar cada empleado.\n",
    "La estructura es la siguiente:\n",
    "\n",
    "  - Código Empleado\n",
    "  - Cantidad de Tareas\n",
    "  - Pila de Tareas\n",
    "    \n",
    " La Pila de Tareas  \n",
    "  \n",
    "    * Area Solicitante\n",
    "    * Descripción\n",
    "    \n",
    "Realizar funciones para este TDA que:\n",
    "* Permita Ingresar una nueva tarea en el empleado que tenga menos tareas.\n",
    "* Permita Procesar las tareas de los empleados 15 a 30, sacándolas de la pila. "
   ]
  },
  {
   "cell_type": "markdown",
   "metadata": {
    "collapsed": true
   },
   "source": [
    "3. Un supermercado decidió crear un sistema para poder remarcar sus precios por lo tanto creo un TDA el cual llamaron “PRODUCTOS_REMARCADOS”. Dicho TDA esta compuesto por:\n",
    "* Fecha Actualizacion (Ultima actualización de precios)\n",
    "* lista de productos:\n",
    "    * cod_producto (Clave de Ordenamiento)\n",
    "    * precio\n",
    "    * cantidad de remarcaciones efectuadas\n",
    "* cola de precios anteriores:\n",
    "     * fecha_actualizacion\n",
    "     * precio\n",
    "\n",
    "Dada la estructura “PRODUCTOS_REMARCADOS” se pide:\n",
    "\n",
    "*  Definir el TDA “PRODUCTOS_REMARCADOS” y cada uno de los tipo utilizados para el\n",
    "mismo implementadolo con punteros.\n",
    "*  Desarrollar la primitiva de este TDA llamada “productos mas remarcados” que recibe\n",
    "como parámetro una variable del TDA PRODUCTOS_REMARCADOS, y devuelve una\n",
    "lista con los productos que fueron remarcados mas de N (parámetro del procedimiento)\n",
    "veces. \n",
    "\n",
    "La lista contendrá el código de producto (la lista se mantiene ordenada por este\n",
    "campo), la cantidad de veces que sufrió remarcacion y el promedio de los precios\n",
    "anteriores.   "
   ]
  },
  {
   "cell_type": "code",
   "execution_count": null,
   "metadata": {
    "collapsed": true
   },
   "outputs": [],
   "source": [
    "4. Un Hospital desarrollo un sistema de Turnos, el cual se implemento con un TDA el cual\n",
    "denominaron “AGENDAS_MEDICAS”. El mismo tiene dos fechas que indican desde cuando y\n",
    "hasta cuando están programados los turnos para dar, el nombre de la especialidad de esa agenda\n",
    "y una lista_simple. \n",
    "Este TDA ”AGENDAS MEDICAS” posee en cada uno de los elementos de la lista simple (Codigo_medico (la lista esta ordenada por este campo), Fecha de atención,\n",
    "cantidad_turnos_libres y cantidad_turnos ocupados). Dada el TDA “AGENDAS_MEDICAS” se pide:\n",
    "· Definir el TDA “AGENDAS_MEDICAS” y cada uno de los tipo utilizados para el mismo\n",
    "implementado con punteros las listas que se requieran.\n",
    "· Desarrollar la primitiva de este TDA llamada “Verificar_turno” que recibe como\n",
    "parámetro el TDA agenda, un codigo de medico y una fecha y devuelve una variable\n",
    "booleana en true si hay disponibilidad de turnos en esa fecha para ese medico. "
   ]
  }
 ],
 "metadata": {
  "kernelspec": {
   "display_name": "Python 2",
   "language": "python",
   "name": "python2"
  },
  "language_info": {
   "codemirror_mode": {
    "name": "ipython",
    "version": 2
   },
   "file_extension": ".py",
   "mimetype": "text/x-python",
   "name": "python",
   "nbconvert_exporter": "python",
   "pygments_lexer": "ipython2",
   "version": "2.7.13"
  }
 },
 "nbformat": 4,
 "nbformat_minor": 2
}
