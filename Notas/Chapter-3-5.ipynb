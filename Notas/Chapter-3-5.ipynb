{
 "cells": [
  {
   "cell_type": "markdown",
   "metadata": {
    "hideCode": false,
    "hidePrompt": false
   },
   "source": [
    "# Ejercicios de pilas y listas\n",
    "\n",
    "## Convertir numeros a notación Binaria\n",
    "\n",
    "\n",
    "De acuerdo con la imagen a continuación podemos convertir cualquier numero a binario si lo dividimos por 2 y el resultado del residuo lo guardamos en una pila, al final solo hay que imprimir el contenido de la pila\n",
    "\n",
    "![fraccion](img/dectobin.png)"
   ]
  },
  {
   "cell_type": "code",
   "execution_count": 1,
   "metadata": {
    "collapsed": false,
    "hideCode": false,
    "hidePrompt": false
   },
   "outputs": [
    {
     "ename": "NameError",
     "evalue": "global name 'Stack' is not defined",
     "output_type": "error",
     "traceback": [
      "\u001b[0;31m---------------------------------------------------------------------------\u001b[0m",
      "\u001b[0;31mNameError\u001b[0m                                 Traceback (most recent call last)",
      "\u001b[0;32m<ipython-input-1-da2590b7f03e>\u001b[0m in \u001b[0;36m<module>\u001b[0;34m()\u001b[0m\n\u001b[1;32m     13\u001b[0m     \u001b[0;32mreturn\u001b[0m \u001b[0mbinString\u001b[0m\u001b[0;34m\u001b[0m\u001b[0m\n\u001b[1;32m     14\u001b[0m \u001b[0;34m\u001b[0m\u001b[0m\n\u001b[0;32m---> 15\u001b[0;31m \u001b[0;32mprint\u001b[0m\u001b[0;34m(\u001b[0m\u001b[0mdivideBy2\u001b[0m\u001b[0;34m(\u001b[0m\u001b[0;36m42\u001b[0m\u001b[0;34m)\u001b[0m\u001b[0;34m)\u001b[0m\u001b[0;34m\u001b[0m\u001b[0m\n\u001b[0m",
      "\u001b[0;32m<ipython-input-1-da2590b7f03e>\u001b[0m in \u001b[0;36mdivideBy2\u001b[0;34m(decNumber)\u001b[0m\n\u001b[1;32m      1\u001b[0m \u001b[0;32mdef\u001b[0m \u001b[0mdivideBy2\u001b[0m\u001b[0;34m(\u001b[0m\u001b[0mdecNumber\u001b[0m\u001b[0;34m)\u001b[0m\u001b[0;34m:\u001b[0m\u001b[0;34m\u001b[0m\u001b[0m\n\u001b[0;32m----> 2\u001b[0;31m     \u001b[0mremstack\u001b[0m \u001b[0;34m=\u001b[0m \u001b[0mStack\u001b[0m\u001b[0;34m(\u001b[0m\u001b[0;34m)\u001b[0m\u001b[0;34m\u001b[0m\u001b[0m\n\u001b[0m\u001b[1;32m      3\u001b[0m \u001b[0;34m\u001b[0m\u001b[0m\n\u001b[1;32m      4\u001b[0m     \u001b[0;32mwhile\u001b[0m \u001b[0mdecNumber\u001b[0m \u001b[0;34m>\u001b[0m \u001b[0;36m0\u001b[0m\u001b[0;34m:\u001b[0m\u001b[0;34m\u001b[0m\u001b[0m\n\u001b[1;32m      5\u001b[0m         \u001b[0mrem\u001b[0m \u001b[0;34m=\u001b[0m \u001b[0mdecNumber\u001b[0m \u001b[0;34m%\u001b[0m \u001b[0;36m2\u001b[0m\u001b[0;34m\u001b[0m\u001b[0m\n",
      "\u001b[0;31mNameError\u001b[0m: global name 'Stack' is not defined"
     ]
    }
   ],
   "source": [
    "def divideBy2(decNumber):\n",
    "    remstack = Stack()\n",
    "\n",
    "    while decNumber > 0:\n",
    "        rem = decNumber % 2\n",
    "        remstack.push(rem)\n",
    "        decNumber = decNumber // 2\n",
    "\n",
    "    binString = \"\"\n",
    "    while not remstack.isEmpty():\n",
    "        binString = binString + str(remstack.pop())\n",
    "\n",
    "    return binString\n",
    "\n",
    "print(divideBy2(42))"
   ]
  },
  {
   "cell_type": "markdown",
   "metadata": {
    "hideCode": false,
    "hidePrompt": false
   },
   "source": [
    "## Actividad.\n",
    "\n",
    "Escribir un programa que permita convertir un número a cualquier base y responde las siguiente preguntas.\n",
    "\n",
    "1. Cual es el valor de 25 expresado como un numero octal.\n",
    "2. Cual es el valor de 25 expresado como un número hexadecimal.\n",
    "3. Cual es el valor de 26 expresado en base 26"
   ]
  },
  {
   "cell_type": "markdown",
   "metadata": {
    "collapsed": false,
    "hideCode": false,
    "hidePrompt": false
   },
   "source": [
    "\n",
    "# Ejercicios usando pilas y listas\n",
    "\n",
    "*TDA = Tipo de Dato Abstracto\n",
    "\n",
    "### 1. Banco\n",
    "\n",
    "Un banco tiene guardados los registros de los movimientos en una lista. Los movimientos\n",
    "están ordenados primero por fecha y luego por numero de cuenta.\n",
    "\n",
    "El tipo del elemento de la lista es:\n",
    "\n",
    "```\n",
    "    Id Fecha  Numero_Cta Monto Tipo(Deposito/Extracción)\n",
    "```\n",
    "\n",
    "Agrega funciones  para este TDA que:\n",
    "\n",
    "*  Permita Calcular la cantidad de depositos realizados entre el 01/01/2004 y el 31/07/2004.\n",
    "*  Permita Calcular el total depositado y extraído en el año 2003.\n",
    "*  Permita Calcular el saldo de la cuenta 8894 del año 2003. \n",
    "\n"
   ]
  },
  {
   "cell_type": "markdown",
   "metadata": {
    "hideCode": false,
    "hidePrompt": false
   },
   "source": [
    "### 2. Empleados\n",
    "\n",
    "Una empresa de servicios guarda es una pila, las tareas que debe realizar cada empleado.\n",
    " \n",
    " La estructura es la siguiente:\n",
    "\n",
    "  - Código Empleado\n",
    "  - Cantidad de Tareas\n",
    "  - Pila de Tareas por empleado\n",
    "    \n",
    " La Pila de Tareas  \n",
    "  \n",
    "    * Area Solicitante\n",
    "    * Descripción\n",
    "\n",
    "**Actividad**\n",
    "\n",
    "Realizar funciones para este TDA que:\n",
    "* Permita Ingresar una nueva tarea en el empleado que tenga menos tareas.\n",
    "* Permita Procesar las tareas de los empleados 15 a 30, sacándolas de la pila. "
   ]
  },
  {
   "cell_type": "markdown",
   "metadata": {
    "collapsed": true,
    "hideCode": false,
    "hidePrompt": false
   },
   "source": [
    "### 3. Supermercado\n",
    "\n",
    "Un supermercado decidió crear un sistema para poder remarcar sus precios por lo tanto creo un TDA el cual llamaron **“PRODUCTOS_REMARCADOS”**. Dicho TDA esta compuesto por:    \n",
    "\n",
    "    - **Fecha Actualizacion** (Ultima actualización de precios)   \n",
    "    - **lista de productos:**   \n",
    "        * cod_producto (Clave de Ordenamiento)\n",
    "        * precio\n",
    "        * cantidad de remarcaciones efectuadas\n",
    "    - cola de precios anteriores:   \n",
    "        * fecha_actualizacion\n",
    "        * precio\n",
    "\n",
    "Dada la estructura **“PRODUCTOS_REMARCADOS”** se pide:\n",
    "\n",
    "-  Definir el TDA “PRODUCTOS_REMARCADOS” y cada uno de los tipo utilizados para el\n",
    "mismo implementadolo con punteros.\n",
    "\n",
    "-  Desarrollar la primitiva de este TDA llamada “productos mas remarcados” que recibe\n",
    "como parámetro una variable del TDA PRODUCTOS_REMARCADOS, y devuelve una\n",
    "lista con los productos que fueron remarcados mas de N (parámetro del procedimiento)\n",
    "veces. \n",
    "\n",
    "- La lista contendrá el código de producto (la lista se mantiene ordenada por este\n",
    "campo), la cantidad de veces que sufrió remarcacion y el promedio de los precios\n",
    "anteriores.   "
   ]
  },
  {
   "cell_type": "markdown",
   "metadata": {
    "collapsed": true,
    "hideCode": false,
    "hidePrompt": false
   },
   "source": [
    "### 4. Hospital\n",
    "\n",
    "Un Hospital desarrollo un sistema de Turnos, el cual se implemento con un TDA el cual denominaron **“AGENDAS_MEDICAS”**. El mismo tiene dos fechas que indican desde cuando y\n",
    "hasta cuando están programados los turnos para dar, el nombre de la especialidad de esa agenda\n",
    "y una lista_simple. \n",
    "Este TDA **”AGENDAS MEDICAS”** posee en cada uno de los elementos de la lista simple:\n",
    "```\n",
    "(Codigo_medico(la lista esta ordenada por este campo), Fecha de atención, cantidad_turnos_libres, cantidad_turnos ocupados). \n",
    "```\n",
    "\n",
    "Dada el TDA “AGENDAS_MEDICAS” se pide:\n",
    "\n",
    "- Definir el TDA “AGENDAS_MEDICAS” y cada uno de los tipo utilizados para el mismo\n",
    "implementado con punteros las listas que se requieran.\n",
    "\n",
    "- Desarrollar la primitiva de este TDA llamada “Verificar_turno” que recibe como\n",
    "parámetro el TDA agenda, un codigo de medico y una fecha y devuelve una variable\n",
    "booleana en true si hay disponibilidad de turnos en esa fecha para ese medico. "
   ]
  },
  {
   "cell_type": "markdown",
   "metadata": {
    "hideCode": false,
    "hidePrompt": false
   },
   "source": [
    "## Siguiente Tema\n",
    "\n",
    "<a href=\"Examen Parcial\">Examen Parcial</a>"
   ]
  },
  {
   "cell_type": "code",
   "execution_count": null,
   "metadata": {
    "collapsed": true,
    "hideCode": false,
    "hidePrompt": false
   },
   "outputs": [],
   "source": []
  }
 ],
 "metadata": {
  "hide_code_all_hidden": false,
  "kernelspec": {
   "display_name": "Python 2",
   "language": "python",
   "name": "python2"
  },
  "language_info": {
   "codemirror_mode": {
    "name": "ipython",
    "version": 2
   },
   "file_extension": ".py",
   "mimetype": "text/x-python",
   "name": "python",
   "nbconvert_exporter": "python",
   "pygments_lexer": "ipython2",
   "version": "2.7.13"
  }
 },
 "nbformat": 4,
 "nbformat_minor": 2
}
