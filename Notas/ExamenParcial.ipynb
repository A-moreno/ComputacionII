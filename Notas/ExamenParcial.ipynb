{
 "cells": [
  {
   "cell_type": "markdown",
   "metadata": {},
   "source": [
    "# Examen Parcial\n",
    "\n",
    "## Listas, Pilas y Colas\n",
    "\n",
    "**Fecha: 12/05/2017 **"
   ]
  },
  {
   "cell_type": "markdown",
   "metadata": {
    "collapsed": false
   },
   "source": [
    "## Ejercicio 1.\n",
    "\n",
    "Se decidió implementar el TDA_PADRÓN para las próximas votaciones.\n",
    "\n",
    "La estructura de datos del TDA es la siguiente:\n",
    "\n",
    "Fecha (STRING)\n",
    "Lista de Estados: LISTA. \n",
    "\n",
    "Cada elemento tiene:\n",
    "```\n",
    "    Provincia \n",
    "    Lista de votantes: LISTA_VOTANTES. \n",
    "        Cada elemento tiene: \n",
    "        INE\n",
    "        Apellido y nombre\n",
    "        Código lugar de votación\n",
    "        Mesa votación\n",
    "    Lista de lugares de votación: TDA_LISTA_LUGARES. Cada elemento tiene:\n",
    "        Código lugar de votación (clave de la lista)\n",
    "        Dirección\n",
    "        Localidad\n",
    "```\n",
    "![](img/Padron.png)\n",
    "\n",
    "\n",
    "Dado el TDA **PADRÓN**, desarrollar el método llamado **Consultar_Lugar_Votación** que recibe como parámetros  una provincia y el INE de un votante, y devuelve una variable booleana que indica si encontró al votante y un registro con la dirección, localidad y mesa donde votará esa persona.\n",
    "\n",
    "Ejemplo de Datos de Entrada.\n",
    "\n",
    "Padron\n",
    "\n",
    "\"21/05\",[1,3],[3,22]\n",
    "\n",
    "Provicias\n",
    "\n",
    "1,[0001221]\n",
    "2,[0001220,0001223]\n",
    "3,[0001222,0001225, 0001228,0001229,0001231]\n",
    "\n",
    "\n",
    "Votantes\n",
    "\n",
    "0001220,Gabriel Garcia,15,1\n",
    "0001221,Monica Naranjo,22,5\n",
    "0002231,Bieber Justino,3,1\n",
    "\n",
    "\n",
    "Lugares de Votacion\n",
    "\n",
    "3, Camelinas 34, Michoacan\n",
    "22, Madero 23, Ciudad de Mexico\n",
    "15, Ave De las Flores 23, Guadalajara"
   ]
  },
  {
   "cell_type": "markdown",
   "metadata": {
    "collapsed": true
   },
   "source": [
    "## Ejercicio 2\n",
    "\n",
    "\n",
    "Dado el siguiente TDA(**LLAMADAS**) el cual fue implementado de la siguiente forma\n",
    "\n",
    "**Lista de llamadas realizadas**. \n",
    "```    \n",
    "    Numero Teléfono\n",
    "    Lista de llamadas realizadas no facturadas (Pila)\n",
    "            Fecha de la llamada\n",
    "            Hora de la llamada\n",
    "            Nro. telefono destino\n",
    "            Duración llamada\n",
    "            Valor llamada\n",
    "```      \n",
    "\n",
    "**Lista llamadas realizadas facturadas**\n",
    "```\n",
    "\n",
    "        Teléfono destino (clave ordenamiento)\n",
    "        Total facturado de llamadas\n",
    "        Total de llamadas realizadas\n",
    "\n",
    "```\n",
    "\n",
    "· Dado el TDA_LLAMADAS, desarrollar el método **“Facturar llamadas por\n",
    "fecha”** que recibe como parámetro:\n",
    "\n",
    "```{python}\n",
    "facturar_llamadas_por_fecha(numTel,fechInicio,fechFinal)\n",
    "\n",
    "```\n",
    "un Numero de teléfono, y dos fechas (desde y hasta) y factura todas las llamadas de ese número de teléfono en ese rango de fechas pasándolas a las lista de llamadas facturadas y\n",
    "eliminándolas de la lista de llamadas realizadas no facturadas. \n",
    "\n",
    "La lista de llamadas\n",
    "valorizadas esta agrupada por teléfono destino. Devolver una variable con el resultado\n",
    "de la operación considerando las excepciones que crea necesarias. Enunciar pre y\n",
    "post condiciones de la primitiva y definir los elementos usados. "
   ]
  },
  {
   "cell_type": "markdown",
   "metadata": {},
   "source": [
    "## Ejercicio 3\n",
    "\n",
    "Dado un TDA COLA desarrollar método, **adelantar_elemento_N**, que recibe\n",
    "como parámetros, la cola, un numero N (es la posición del elemento que se quiere encolar como\n",
    "primero) y devuelve una variable de error que indica el resultado de la operación. \n",
    "\n",
    "Esta primitiva\n",
    "desencola el elemento N (por ejemplo si N es 3, es el tercer elemento desde el primero) y lo encola\n",
    "como primero de la cola (quedaría listo para salir). \n",
    "```\n",
    "[1,4,5,6]\n",
    "A = Queue()\n",
    "\n",
    "4 en posicion 3 ==> [1,6,1,4]\n",
    "\n",
    "```\n",
    "\n",
    "\n",
    "\n",
    "La primitiva devuelve error en TRUE si no se\n",
    "pudo realizar la operación porque no existía el elemento N, FALSE si se realizo exitosamente el\n",
    "cambio.\n",
    "\n",
    "**PRE-condición** La cola no esta vacía. \n",
    "**Aclaración**: Para que la primitiva sea optima no\n",
    "se pueden utilizar otras primitivas del tipo ni estructuras auxiliares."
   ]
  },
  {
   "cell_type": "code",
   "execution_count": null,
   "metadata": {
    "collapsed": true
   },
   "outputs": [],
   "source": []
  }
 ],
 "metadata": {
  "kernelspec": {
   "display_name": "Python 2",
   "language": "python",
   "name": "python2"
  },
  "language_info": {
   "codemirror_mode": {
    "name": "ipython",
    "version": 2
   },
   "file_extension": ".py",
   "mimetype": "text/x-python",
   "name": "python",
   "nbconvert_exporter": "python",
   "pygments_lexer": "ipython2",
   "version": "2.7.13"
  }
 },
 "nbformat": 4,
 "nbformat_minor": 2
}
